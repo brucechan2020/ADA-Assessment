{
 "cells": [
  {
   "cell_type": "code",
   "execution_count": null,
   "metadata": {},
   "outputs": [],
   "source": [
    "# id1 = pd.date_range(df_bc['Date'].min(), df_bc['Date'].max())\n",
    "# id2 = pd.date_range(df_gold['Date'].min(), df_gold['Date'].max())\n",
    "# id3 = pd.date_range(df_oil['Date'].min(), df_oil['Date'].max())\n",
    "# id4 = pd.date_range(df_raw['Date'].min(), df_raw['Date'].max())\n",
    "# id5 = pd.date_range(df_vix['Date'].min(), df_vix['Date'].max())\n"
   ]
  }
 ],
 "metadata": {
  "kernelspec": {
   "display_name": "base",
   "language": "python",
   "name": "python3"
  },
  "language_info": {
   "name": "python",
   "version": "3.9.7"
  },
  "orig_nbformat": 4
 },
 "nbformat": 4,
 "nbformat_minor": 2
}
