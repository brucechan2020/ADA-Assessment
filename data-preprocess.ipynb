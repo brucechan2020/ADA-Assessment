{
 "cells": [
  {
   "cell_type": "code",
   "execution_count": 1,
   "metadata": {},
   "outputs": [],
   "source": [
    "import pandas as pd\n",
    "from datetime import datetime"
   ]
  },
  {
   "cell_type": "code",
   "execution_count": 2,
   "metadata": {},
   "outputs": [],
   "source": [
    "# read data\n",
    "df_bc = pd.read_csv('raw_data/bitcoin_raw.csv')\n",
    "df_gold = pd.read_csv('raw_data/gold_df.csv')\n",
    "df_oil = pd.read_csv('raw_data/oil_price_raw.csv')\n",
    "df_raw = pd.read_csv('raw_data/raw_v2_dataset.csv')\n",
    "df_vix = pd.read_csv('raw_data/vixcurrent.csv',skiprows=[0])\n",
    "\n",
    "df_bc['Date'] = pd.to_datetime(df_bc.Date)\n",
    "df_gold['Date'] = pd.to_datetime(df_gold.Date)\n",
    "df_oil['Date'] = pd.to_datetime(df_oil.Date)\n",
    "df_raw['Date'] = pd.to_datetime(df_raw.Date)\n",
    "df_vix['Date'] = pd.to_datetime(df_vix.Date)\n",
    "\n",
    "df_bc = df_bc.sort_values('Date')\n",
    "df_gold = df_gold.sort_values('Date')\n",
    "df_oil = df_oil.sort_values('Date')\n",
    "df_raw = df_raw.sort_values('Date')\n",
    "df_vix = df_vix.sort_values('Date')\n",
    "\n",
    "df_bc.set_index('Date', inplace=True)\n",
    "df_gold.set_index('Date', inplace=True)\n",
    "df_oil.set_index('Date', inplace=True)\n",
    "df_raw.set_index('Date', inplace=True)\n",
    "df_vix.set_index('Date', inplace=True)\n",
    "\n",
    "# df_bc= df_bc.asfreq('D')\n",
    "# df_gold= df_gold.asfreq('D')\n",
    "# df_oil= df_oil.asfreq('D')\n",
    "# df_raw= df_raw.asfreq('D')\n",
    "# df_vix= df_vix.asfreq('D')"
   ]
  },
  {
   "cell_type": "code",
   "execution_count": 3,
   "metadata": {},
   "outputs": [],
   "source": [
    "df_sp500 = df_raw[['SP500 close index']].copy(deep=True)\n",
    "df_sp500 = df_sp500.interpolate().round(2)\n",
    "df_sp500.columns= ['Close']\n",
    "df_sp500['Type'] = 'SP500'\n",
    "df_sp500.to_csv('preprocess/sp500.csv')"
   ]
  },
  {
   "cell_type": "code",
   "execution_count": 4,
   "metadata": {},
   "outputs": [],
   "source": [
    "bc_of_raw = df_raw[['Volume BTC','BTC n-transactions','BTC google search interest']].copy(deep=True)"
   ]
  },
  {
   "cell_type": "code",
   "execution_count": 5,
   "metadata": {},
   "outputs": [],
   "source": [
    "df_bc=df_bc.drop(['Currency'], axis=1)\n",
    "df_bc = df_bc.merge(bc_of_raw,left_index=True, right_index=True ,how='outer')\n",
    "df_bc.columns = ['Close', 'Open', 'High', 'Low','Volume','n-transactions','interest']\n",
    "df_bc =df_bc.interpolate().round(2)\n",
    "df_bc =df_bc.fillna(method='bfill')\n",
    "df_bc['Type'] = 'BTC'\n",
    "df_bc.to_csv('preprocess/bitcoin.csv')"
   ]
  },
  {
   "cell_type": "code",
   "execution_count": 6,
   "metadata": {},
   "outputs": [],
   "source": [
    "df_gold = df_gold.replace(',','', regex=True)\n",
    "df_gold = df_gold.replace('%','', regex=True)\n",
    "df_gold = df_gold.replace('K','', regex=True)\n",
    "df_gold=df_gold.astype(float)\n",
    "df_gold['Volume'] = df_gold.Volume *1000 \n",
    "df_gold = df_gold.drop(['Chg%'], axis=1)\n",
    "df_gold.columns = ['Close', 'Open', 'High', 'Low','Volume']\n",
    "df_gold = df_gold.interpolate().round(2)\n",
    "df_gold['Type'] = 'Gold'\n",
    "df_gold.to_csv('preprocess/gold.csv')"
   ]
  },
  {
   "cell_type": "code",
   "execution_count": 7,
   "metadata": {},
   "outputs": [],
   "source": [
    "df_oil= df_oil.interpolate().round(2)\n",
    "df_oil['Close'] = df_oil['Adj Close']\n",
    "df_oil = df_oil.drop(['Adj Close'], axis=1)\n",
    "new_cols =['Close', 'Open', 'High', 'Low','Volume']\n",
    "df_oil = df_oil[new_cols] #other method set head\n",
    "df_oil['Type'] = 'Oil'\n",
    "df_oil.to_csv('preprocess/oil.csv')\n"
   ]
  },
  {
   "cell_type": "code",
   "execution_count": 8,
   "metadata": {},
   "outputs": [],
   "source": [
    "df_vix.columns = ['Open', 'High', 'Low', 'Close']\n",
    "df_vix = df_vix.interpolate().round(2)\n",
    "new_cols =['Close', 'Open', 'High', 'Low']\n",
    "df_vix = df_vix[new_cols]\n",
    "df_vix['Type'] = 'VIX'\n",
    "df_vix.to_csv('preprocess/vix.csv')"
   ]
  }
 ],
 "metadata": {
  "kernelspec": {
   "display_name": "base",
   "language": "python",
   "name": "python3"
  },
  "language_info": {
   "codemirror_mode": {
    "name": "ipython",
    "version": 3
   },
   "file_extension": ".py",
   "mimetype": "text/x-python",
   "name": "python",
   "nbconvert_exporter": "python",
   "pygments_lexer": "ipython3",
   "version": "3.9.7"
  },
  "orig_nbformat": 4
 },
 "nbformat": 4,
 "nbformat_minor": 2
}
